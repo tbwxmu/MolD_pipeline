{
 "cells": [
  {
   "cell_type": "code",
   "execution_count": 1,
   "metadata": {},
   "outputs": [],
   "source": [
    "import sys\n",
    "sys.path.insert(0, '../')\n",
    "\n",
    "from minisom import MiniSom\n",
    "\n",
    "from sklearn.model_selection import train_test_split\n",
    "from sklearn.metrics import classification_report\n",
    "\n",
    "import numpy as np\n",
    "import matplotlib.pyplot as plt\n",
    "from matplotlib.gridspec import GridSpec\n",
    "%matplotlib inline\n",
    "\n",
    "%load_ext autoreload\n",
    "\n",
    "data = np.genfromtxt('iris.csv', delimiter=',', usecols=(0, 1, 2, 3))\n",
    "data = np.apply_along_axis(lambda x: x/np.linalg.norm(x), 1, data)\n",
    "labels = np.genfromtxt('iris.csv', delimiter=',', usecols=(4), dtype=str)\n",
    "\n",
    "# Initialization and training\n",
    "som = MiniSom(5, 5, 4, sigma=3, learning_rate=0.5, \n",
    "              neighborhood_function='triangle', random_seed=10)"
   ]
  },
  {
   "cell_type": "code",
   "execution_count": 2,
   "metadata": {},
   "outputs": [],
   "source": [
    "class_assignments = som.labels_map(data, labels)\n",
    "\n",
    "def classify(som, data, class_assignments):\n",
    "    \"\"\"Classifies each sample in data in one of the classes definited\n",
    "    using the method labels_map.\n",
    "    Returns a list of the same length of data where the i-th element\n",
    "    is the class assigned to data[i].\n",
    "    \"\"\"\n",
    "    winmap = class_assignments\n",
    "    default_class = np.sum(list(winmap.values())).most_common()[0][0]\n",
    "    result = []\n",
    "    for d in data:\n",
    "        win_position = som.winner(d)\n",
    "        if win_position in winmap:\n",
    "            result.append(winmap[win_position].most_common()[0][0])\n",
    "        else:\n",
    "            result.append(default_class)\n",
    "    return result"
   ]
  },
  {
   "cell_type": "code",
   "execution_count": 3,
   "metadata": {
    "scrolled": true
   },
   "outputs": [
    {
     "name": "stdout",
     "output_type": "stream",
     "text": [
      "              precision    recall  f1-score   support\n",
      "\n",
      "      setosa       1.00      1.00      1.00        11\n",
      "  versicolor       1.00      1.00      1.00        13\n",
      "   virginica       1.00      1.00      1.00        14\n",
      "\n",
      "   micro avg       1.00      1.00      1.00        38\n",
      "   macro avg       1.00      1.00      1.00        38\n",
      "weighted avg       1.00      1.00      1.00        38\n",
      "\n"
     ]
    }
   ],
   "source": [
    "X_train, X_test, y_train, y_test = train_test_split(data, labels)\n",
    "\n",
    "som.pca_weights_init(X_train)\n",
    "som.train_random(X_train, 5000, verbose=False)\n",
    "class_assignments = som.labels_map(X_train, y_train)\n",
    "\n",
    "print(classification_report(y_test, classify(som, X_test, class_assignments)))"
   ]
  },
  {
   "cell_type": "code",
   "execution_count": 4,
   "metadata": {},
   "outputs": [],
   "source": [
    "#SOM_Molecule fingerPrint—— CDK fix smiles"
   ]
  },
  {
   "cell_type": "code",
   "execution_count": 64,
   "metadata": {},
   "outputs": [],
   "source": [
    "import os \n",
    "import rdkit\n",
    "from rdkit import Chem, DataStructs\n",
    "import rdkit.Chem as Chem\n",
    "from rdkit.Chem import AllChem\n",
    "from rdkit.Chem.Draw import IPythonConsole\n",
    "from rdkit.Chem import Draw\n",
    "IPythonConsole.ipython_useSVG=True\n"
   ]
  },
  {
   "cell_type": "code",
   "execution_count": 65,
   "metadata": {},
   "outputs": [],
   "source": [
    "import sys, csv\n",
    "#sys.path.insert(0, 'SOM_fp')\n",
    "#sys.path\n",
    "from minisom import MiniSom\n",
    "from sklearn.model_selection import train_test_split\n",
    "from sklearn.metrics import classification_report\n",
    "import numpy as np\n",
    "import matplotlib.pyplot as plt\n",
    "from matplotlib.gridspec import GridSpec\n",
    "#import pandas as pd"
   ]
  },
  {
   "cell_type": "code",
   "execution_count": 66,
   "metadata": {},
   "outputs": [],
   "source": [
    "import pandas as pd\n",
    "fiter=pd.read_csv('SOM_fp\\cdk_all_eact.csv')\n",
    "Neg=fiter.loc[(fiter['Activity_Flag'] == 'N')]# & (fiter['column_name'] <= B)]\n",
    "Act=fiter.loc[(fiter['Activity_Flag'] == 'A')]#可能其它的SOM 用到到 总活 or 总非活"
   ]
  },
  {
   "cell_type": "code",
   "execution_count": 67,
   "metadata": {},
   "outputs": [],
   "source": [
    "#直接从网上下载的 CDK smiles rdkit 可能有未识别的 修正\n",
    "def RdkitSmilseFix(path='SOM_fp/cdk_all_eact.csv',path_failSmiles='SOM_fp/fails.smi',\n",
    "                   delimiter=','):\n",
    "    reader = csv.reader(open(path, 'r'), delimiter=delimiter)\n",
    "    header = next(reader)\n",
    "    cols_to_read=[col for col in range(len(header))]\n",
    "    data_full = np.array(list(reader))\n",
    "\n",
    "    for i,s in enumerate(data_full[:,10]):\n",
    "        m=Chem.MolFromSmiles(s)\n",
    "        if m is not None:\n",
    "            ss=Chem.MolToSmiles(m)\n",
    "        else:\n",
    "            print(f'Rdkit failed reading{data_full[i]}')\n",
    "            with open(path_failSmiles,'a+') as af:\n",
    "                af.write(str(data_full[i].tolist())+'\\n')\n"
   ]
  },
  {
   "cell_type": "code",
   "execution_count": 68,
   "metadata": {
    "scrolled": false
   },
   "outputs": [],
   "source": [
    "RdkitSmilseFix(path='SOM_fp/cdk_all_eact.csv',\n",
    "               path_failSmiles='SOM_fp/fails.smi',\n",
    "               delimiter=',')\n",
    "#USE the SDG or openbable to fix the fail SMILES"
   ]
  },
  {
   "cell_type": "code",
   "execution_count": 69,
   "metadata": {},
   "outputs": [
    {
     "name": "stdout",
     "output_type": "stream",
     "text": [
      "O=C1Nc2ccccc2[C@H]1C=Nc1ccc2[nH]c(O)nc2c1\n"
     ]
    },
    {
     "data": {
      "image/png": "[encoded data removed]",
      "image/svg+xml": [
       "<?xml version='1.0' encoding='iso-8859-1'?>\n",
       "<svg version='1.1' baseProfile='full'\n",
       "              xmlns:svg='http://www.w3.org/2000/svg'\n",
       "                      xmlns:rdkit='http://www.rdkit.org/xml'\n",
       "                      xmlns:xlink='http://www.w3.org/1999/xlink'\n",
       "                  xml:space='preserve'\n",
       "width='450px' height='150px' >\n",
       "<rect style='opacity:1.0;fill:#FFFFFF;stroke:none' width='450' height='150' x='0' y='0'> </rect>\n",
       "<path d='M 109.779,60.7601 99.4304,71.7668' style='fill:none;fill-rule:evenodd;stroke:#0000FF;stroke-width:2px;stroke-linecap:butt;stroke-linejoin:miter;stroke-opacity:1' />\n",
       "<path d='M 99.4304,71.7668 89.0815,82.7735' style='fill:none;fill-rule:evenodd;stroke:#000000;stroke-width:2px;stroke-linecap:butt;stroke-linejoin:miter;stroke-opacity:1' />\n",
       "<path d='M 112.254,69.308 105.01,77.0127' style='fill:none;fill-rule:evenodd;stroke:#0000FF;stroke-width:2px;stroke-linecap:butt;stroke-linejoin:miter;stroke-opacity:1' />\n",
       "<path d='M 105.01,77.0127 97.7654,84.7174' style='fill:none;fill-rule:evenodd;stroke:#000000;stroke-width:2px;stroke-linecap:butt;stroke-linejoin:miter;stroke-opacity:1' />\n",
       "<path d='M 120.842,57.4843 135.395,64.3433' style='fill:none;fill-rule:evenodd;stroke:#0000FF;stroke-width:2px;stroke-linecap:butt;stroke-linejoin:miter;stroke-opacity:1' />\n",
       "<path d='M 135.395,64.3433 149.947,71.2023' style='fill:none;fill-rule:evenodd;stroke:#000000;stroke-width:2px;stroke-linecap:butt;stroke-linejoin:miter;stroke-opacity:1' />\n",
       "<path d='M 89.0815,82.7735 75.8345,81.0916' style='fill:none;fill-rule:evenodd;stroke:#000000;stroke-width:2px;stroke-linecap:butt;stroke-linejoin:miter;stroke-opacity:1' />\n",
       "<path d='M 75.8345,81.0916 62.5875,79.4097' style='fill:none;fill-rule:evenodd;stroke:#FF0000;stroke-width:2px;stroke-linecap:butt;stroke-linejoin:miter;stroke-opacity:1' />\n",
       "<path d='M 89.0815,82.7735 96.5427,96.3656' style='fill:none;fill-rule:evenodd;stroke:#000000;stroke-width:2px;stroke-linecap:butt;stroke-linejoin:miter;stroke-opacity:1' />\n",
       "<path d='M 96.5427,96.3656 104.004,109.958' style='fill:none;fill-rule:evenodd;stroke:#0000FF;stroke-width:2px;stroke-linecap:butt;stroke-linejoin:miter;stroke-opacity:1' />\n",
       "<path d='M 118.57,114.236 131.847,111.712' style='fill:none;fill-rule:evenodd;stroke:#0000FF;stroke-width:2px;stroke-linecap:butt;stroke-linejoin:miter;stroke-opacity:1' />\n",
       "<path d='M 131.847,111.712 145.124,109.188' style='fill:none;fill-rule:evenodd;stroke:#000000;stroke-width:2px;stroke-linecap:butt;stroke-linejoin:miter;stroke-opacity:1' />\n",
       "<path d='M 145.124,109.188 149.947,71.2023' style='fill:none;fill-rule:evenodd;stroke:#000000;stroke-width:2px;stroke-linecap:butt;stroke-linejoin:miter;stroke-opacity:1' />\n",
       "<path d='M 138.25,102.526 141.626,75.9356' style='fill:none;fill-rule:evenodd;stroke:#000000;stroke-width:2px;stroke-linecap:butt;stroke-linejoin:miter;stroke-opacity:1' />\n",
       "<path d='M 145.124,109.188 175.609,132.358' style='fill:none;fill-rule:evenodd;stroke:#000000;stroke-width:2px;stroke-linecap:butt;stroke-linejoin:miter;stroke-opacity:1' />\n",
       "<path d='M 149.947,71.2023 185.255,56.3862' style='fill:none;fill-rule:evenodd;stroke:#000000;stroke-width:2px;stroke-linecap:butt;stroke-linejoin:miter;stroke-opacity:1' />\n",
       "<path d='M 175.609,132.358 210.917,117.542' style='fill:none;fill-rule:evenodd;stroke:#000000;stroke-width:2px;stroke-linecap:butt;stroke-linejoin:miter;stroke-opacity:1' />\n",
       "<path d='M 177.942,123.074 202.658,112.703' style='fill:none;fill-rule:evenodd;stroke:#000000;stroke-width:2px;stroke-linecap:butt;stroke-linejoin:miter;stroke-opacity:1' />\n",
       "<path d='M 210.917,117.542 215.74,79.5559' style='fill:none;fill-rule:evenodd;stroke:#000000;stroke-width:2px;stroke-linecap:butt;stroke-linejoin:miter;stroke-opacity:1' />\n",
       "<path d='M 215.74,79.5559 185.255,56.3862' style='fill:none;fill-rule:evenodd;stroke:#000000;stroke-width:2px;stroke-linecap:butt;stroke-linejoin:miter;stroke-opacity:1' />\n",
       "<path d='M 206.534,82.1775 185.194,65.9587' style='fill:none;fill-rule:evenodd;stroke:#000000;stroke-width:2px;stroke-linecap:butt;stroke-linejoin:miter;stroke-opacity:1' />\n",
       "<path d='M 215.74,79.5559 230.629,73.3084' style='fill:none;fill-rule:evenodd;stroke:#000000;stroke-width:2px;stroke-linecap:butt;stroke-linejoin:miter;stroke-opacity:1' />\n",
       "<path d='M 230.629,73.3084 245.517,67.0609' style='fill:none;fill-rule:evenodd;stroke:#0000FF;stroke-width:2px;stroke-linecap:butt;stroke-linejoin:miter;stroke-opacity:1' />\n",
       "<path d='M 256.58,68.9438 269.057,78.4267' style='fill:none;fill-rule:evenodd;stroke:#0000FF;stroke-width:2px;stroke-linecap:butt;stroke-linejoin:miter;stroke-opacity:1' />\n",
       "<path d='M 269.057,78.4267 281.534,87.9095' style='fill:none;fill-rule:evenodd;stroke:#000000;stroke-width:2px;stroke-linecap:butt;stroke-linejoin:miter;stroke-opacity:1' />\n",
       "<path d='M 255.689,77.8857 264.423,84.5237' style='fill:none;fill-rule:evenodd;stroke:#0000FF;stroke-width:2px;stroke-linecap:butt;stroke-linejoin:miter;stroke-opacity:1' />\n",
       "<path d='M 264.423,84.5237 273.157,91.1617' style='fill:none;fill-rule:evenodd;stroke:#000000;stroke-width:2px;stroke-linecap:butt;stroke-linejoin:miter;stroke-opacity:1' />\n",
       "<path d='M 316.842,73.0934 280.052,84.3787 283.015,91.4403 316.842,73.0934' style='fill:#000000;fill-rule:evenodd;stroke:#000000;stroke-width:2px;stroke-linecap:butt;stroke-linejoin:miter;stroke-opacity:1' />\n",
       "<path d='M 316.842,73.0934 325.609,35.8198' style='fill:none;fill-rule:evenodd;stroke:#000000;stroke-width:2px;stroke-linecap:butt;stroke-linejoin:miter;stroke-opacity:1' />\n",
       "<path d='M 316.842,73.0934 349.582,92.9496' style='fill:none;fill-rule:evenodd;stroke:#000000;stroke-width:2px;stroke-linecap:butt;stroke-linejoin:miter;stroke-opacity:1' />\n",
       "<path d='M 328.509,33.3196 318.759,22.0097' style='fill:none;fill-rule:evenodd;stroke:#000000;stroke-width:2px;stroke-linecap:butt;stroke-linejoin:miter;stroke-opacity:1' />\n",
       "<path d='M 318.759,22.0097 309.009,10.6998' style='fill:none;fill-rule:evenodd;stroke:#FF0000;stroke-width:2px;stroke-linecap:butt;stroke-linejoin:miter;stroke-opacity:1' />\n",
       "<path d='M 322.709,38.32 312.959,27.0101' style='fill:none;fill-rule:evenodd;stroke:#000000;stroke-width:2px;stroke-linecap:butt;stroke-linejoin:miter;stroke-opacity:1' />\n",
       "<path d='M 312.959,27.0101 303.209,15.7002' style='fill:none;fill-rule:evenodd;stroke:#FF0000;stroke-width:2px;stroke-linecap:butt;stroke-linejoin:miter;stroke-opacity:1' />\n",
       "<path d='M 325.609,35.8198 339.157,34.6907' style='fill:none;fill-rule:evenodd;stroke:#000000;stroke-width:2px;stroke-linecap:butt;stroke-linejoin:miter;stroke-opacity:1' />\n",
       "<path d='M 339.157,34.6907 352.705,33.5616' style='fill:none;fill-rule:evenodd;stroke:#0000FF;stroke-width:2px;stroke-linecap:butt;stroke-linejoin:miter;stroke-opacity:1' />\n",
       "<path d='M 366.445,39.0214 372.515,53.4846' style='fill:none;fill-rule:evenodd;stroke:#0000FF;stroke-width:2px;stroke-linecap:butt;stroke-linejoin:miter;stroke-opacity:1' />\n",
       "<path d='M 372.515,53.4846 378.584,67.9478' style='fill:none;fill-rule:evenodd;stroke:#000000;stroke-width:2px;stroke-linecap:butt;stroke-linejoin:miter;stroke-opacity:1' />\n",
       "<path d='M 378.584,67.9478 349.582,92.9496' style='fill:none;fill-rule:evenodd;stroke:#000000;stroke-width:2px;stroke-linecap:butt;stroke-linejoin:miter;stroke-opacity:1' />\n",
       "<path d='M 369.233,65.8977 348.932,83.399' style='fill:none;fill-rule:evenodd;stroke:#000000;stroke-width:2px;stroke-linecap:butt;stroke-linejoin:miter;stroke-opacity:1' />\n",
       "<path d='M 378.584,67.9478 414.737,80.563' style='fill:none;fill-rule:evenodd;stroke:#000000;stroke-width:2px;stroke-linecap:butt;stroke-linejoin:miter;stroke-opacity:1' />\n",
       "<path d='M 349.582,92.9496 356.733,130.567' style='fill:none;fill-rule:evenodd;stroke:#000000;stroke-width:2px;stroke-linecap:butt;stroke-linejoin:miter;stroke-opacity:1' />\n",
       "<path d='M 414.737,80.563 421.888,118.18' style='fill:none;fill-rule:evenodd;stroke:#000000;stroke-width:2px;stroke-linecap:butt;stroke-linejoin:miter;stroke-opacity:1' />\n",
       "<path d='M 408.286,87.6358 413.292,113.968' style='fill:none;fill-rule:evenodd;stroke:#000000;stroke-width:2px;stroke-linecap:butt;stroke-linejoin:miter;stroke-opacity:1' />\n",
       "<path d='M 421.888,118.18 392.886,143.182' style='fill:none;fill-rule:evenodd;stroke:#000000;stroke-width:2px;stroke-linecap:butt;stroke-linejoin:miter;stroke-opacity:1' />\n",
       "<path d='M 392.886,143.182 356.733,130.567' style='fill:none;fill-rule:evenodd;stroke:#000000;stroke-width:2px;stroke-linecap:butt;stroke-linejoin:miter;stroke-opacity:1' />\n",
       "<path d='M 389.986,134.059 364.679,125.228' style='fill:none;fill-rule:evenodd;stroke:#000000;stroke-width:2px;stroke-linecap:butt;stroke-linejoin:miter;stroke-opacity:1' />\n",
       "<text x='109.779' y='61.259' style='font-size:12px;font-style:normal;font-weight:normal;fill-opacity:1;stroke:none;font-family:sans-serif;text-anchor:start;fill:#0000FF' ><tspan>N</tspan></text>\n",
       "<text x='39.6038' y='84.3324' style='font-size:12px;font-style:normal;font-weight:normal;fill-opacity:1;stroke:none;font-family:sans-serif;text-anchor:start;fill:#FF0000' ><tspan>HO</tspan></text>\n",
       "<text x='96.4443' y='122.721' style='font-size:12px;font-style:normal;font-weight:normal;fill-opacity:1;stroke:none;font-family:sans-serif;text-anchor:start;fill:#0000FF' ><tspan>NH</tspan></text>\n",
       "<text x='245.517' y='71.1216' style='font-size:12px;font-style:normal;font-weight:normal;fill-opacity:1;stroke:none;font-family:sans-serif;text-anchor:start;fill:#0000FF' ><tspan>N</tspan></text>\n",
       "<text x='294.647' y='13.2' style='font-size:12px;font-style:normal;font-weight:normal;fill-opacity:1;stroke:none;font-family:sans-serif;text-anchor:start;fill:#FF0000' ><tspan>O</tspan></text>\n",
       "<text x='352.705' y='39.0214' style='font-size:12px;font-style:normal;font-weight:normal;fill-opacity:1;stroke:none;font-family:sans-serif;text-anchor:start;fill:#0000FF' ><tspan>NH</tspan></text>\n",
       "</svg>\n"
      ],
      "text/plain": [
       "<rdkit.Chem.rdchem.Mol at 0x22df0470da0>"
      ]
     },
     "execution_count": 69,
     "metadata": {},
     "output_type": "execute_result"
    }
   ],
   "source": [
    "#Chem.MolFromSmiles('O=C1[NH2]C2=[C]C=CC=C2[C]1C=[NH]C3=CC=C4NC(O)=NC4=C3')\n",
    "am=Chem.MolFromSmiles('n1c(O)[nH]c(c12)ccc(c2)N=C[C@H]3C(=O)Nc(c34)cccc4')\n",
    "c_s=Chem.MolToSmiles(am)\n",
    "print(c_s)\n",
    "#sdg: n1c(O)[nH]c(c12)ccc(c2)\\N=C\\[C@H]3C(=O)Nc(c34)cccc4 去掉 \\ , 用C_S替换原数据\n",
    "am#fix 后继续run RdkitSmilseFix,  最后手动 修改数据cdk_all_eact--》 MergeLable_2col"
   ]
  },
  {
   "cell_type": "code",
   "execution_count": 80,
   "metadata": {},
   "outputs": [],
   "source": [
    "def make_fingerprint(smiles: str,\n",
    "                     fingerprint: str='morgan',\n",
    "                     radius: int = 2,\n",
    "                     num_bits: int = 2048,\n",
    "                     use_counts: bool = False) -> np.ndarray:\n",
    "    if type(smiles) == str:\n",
    "        mol = Chem.MolFromSmiles(smiles)\n",
    "    else:\n",
    "        mol = smiles\n",
    "    if fingerprint=='morgan':\n",
    "        if use_counts:\n",
    "            fp_vect = AllChem.GetHashedMorganFingerprint(mol, radius, nBits=num_bits)\n",
    "        else:\n",
    "            fp_vect = AllChem.GetMorganFingerprintAsBitVect(mol, radius, nBits=num_bits)\n",
    "        fp = np.zeros((1,))\n",
    "        DataStructs.ConvertToNumpyArray(fp_vect, fp)\n",
    "    else:\n",
    "        raise ValueError(f'for now only support morgan fingerprint')\n",
    "    return fp\n",
    "\n",
    "\n",
    "def read_smiles_property_file(#args,# args will be use in the read_split_scale_write() do not remove\n",
    "                              path, #cols_to_read, #in multitask use multi cols\n",
    "                              delimiter=',',  # change , the inputfile\n",
    "                              fingerprint=True,\n",
    "                              keep_header=False):  # todo merge args path or something\n",
    "    reader = csv.reader(open(path, 'r'), delimiter=delimiter)\n",
    "    header = next(reader)\n",
    "    #cols_to_read=[col for col in range(len(header))]\n",
    "    cols_to_read=[0,1]#as the string gensymbol not use\n",
    "    data_full = np.array(list(reader))#should also consider 0\n",
    "    print(f'data_full.shape{data_full.shape}')\n",
    "    if keep_header:\n",
    "        start_position = 0\n",
    "    else:\n",
    "        start_position = 1\n",
    "    assert len(data_full) > start_position\n",
    "    data = [[] for _ in range(len(cols_to_read))]  # todo split the data by cols as lists, get this\n",
    "    for i in range(len(cols_to_read)):\n",
    "        col = cols_to_read[i]\n",
    "        print(i,f'cols_to_read{cols_to_read}--->{header[i]}')\n",
    "        data[i] = data_full[start_position:, col]  # todo split the data by cols,#list with np.arry\n",
    "        if i >=1:#fill the miss or NA with value\n",
    "            #todo mask is 0 and None is 0 check the affect when train in loss, 如何避免与本来就是0的label 混淆呢\n",
    "            data[i]=np.where(data[i]=='None',None,data[i] )\n",
    "            data[i]=np.where(data[i]=='nan',None,data[i] )\n",
    "            data[i]=np.where(data[i]=='',None, data[i])#'' the datatype as U109,  astype('float32') will be used next， then None will be nan in np float()\n",
    "    if fingerprint:#得考虑RDkit识别不了的，先修正才行\n",
    "        fps=[make_fingerprint(Chem.MolFromSmiles(str(sm))) for sm in data[0]]\n",
    "        data.append(fps)\n",
    "        print(f'add fingerPrint Col to data len(data)={len(data)}')\n",
    "    return data\n",
    "\n"
   ]
  },
  {
   "cell_type": "code",
   "execution_count": 81,
   "metadata": {},
   "outputs": [
    {
     "name": "stdout",
     "output_type": "stream",
     "text": [
      "data_full.shape(7857, 2)\n",
      "0 cols_to_read[0, 1]--->SMILES\n",
      "1 cols_to_read[0, 1]--->Gene_Symbol\n",
      "add fingerPrint Col to data len(data)=3\n"
     ]
    }
   ],
   "source": [
    "dataCDK=read_smiles_property_file('SOM_fp\\MergeLable_2col.csv',keep_header=False,\n",
    "                               #cols_to_read=[3,4,8,10],\n",
    "                               #cols_to_read=[8,10]\n",
    "                              )\n",
    "#data"
   ]
  },
  {
   "cell_type": "code",
   "execution_count": 83,
   "metadata": {},
   "outputs": [],
   "source": [
    "reader = csv.reader(open('SOM_fp/MergeLable_2col.csv', 'r'), delimiter=',')\n",
    "header = next(reader)\n",
    "#cols_to_read=[col for col in range(len(header))] #if use all col, else just selected\n",
    "\n",
    "data_full = np.array(list(reader))#should also consider 0"
   ]
  },
  {
   "cell_type": "code",
   "execution_count": 85,
   "metadata": {},
   "outputs": [
    {
     "data": {
      "text/plain": [
       "array([['C1=C(N=C(NC2=CC=C(C=C2)N)N=C1)C=3SC(=NC3C)C', 'CDK2_A'],\n",
       "       ['C1=C(N=C(NC2=CC=C(C=C2)N)N=C1)C=3SC(=NC3C)C', 'CDK4_A'],\n",
       "       ['C1=C(N=C(NC2=CC=C(C=C2)N)N=C1)C=3SC(=NC3C)C', 'CDK7_A'],\n",
       "       ...,\n",
       "       ['FC=1C=CC(C(=O)NC=2C=C(C3NC=4C(C5C3CC=C5)=C6C(=CC4)C=CC=C6)C=CC2)=CC1',\n",
       "        'CDK9_A'],\n",
       "       ['C1(=CC(=C2OC(C3=CC(=C(C=C3)O)O)C(=O)C(C2=C1)=O)N4CCCC4=O)C',\n",
       "        'CDK2_A'],\n",
       "       ['NS(=O)(=O)C1=CC=C(C=C1)C=2C=CC3=C(NC(=O)C4CC4)NN=C3C2',\n",
       "        'CDK6_A']], dtype='<U125')"
      ]
     },
     "execution_count": 85,
     "metadata": {},
     "output_type": "execute_result"
    }
   ],
   "source": [
    "data_full"
   ]
  },
  {
   "cell_type": "code",
   "execution_count": null,
   "metadata": {},
   "outputs": [],
   "source": []
  },
  {
   "cell_type": "code",
   "execution_count": null,
   "metadata": {},
   "outputs": [],
   "source": [
    "import collections\n",
    "def clean_classFile(          path, #cols_to_read, #in multitask use multi cols\n",
    "                              delimiter=',',  # change , the inputfile\n",
    "                              keep_header=False):\n",
    "    sm_labs=collections.defaultdict(list)\n",
    "    c_smUniq=set()\n",
    "    with open(path,'r') as rf:\n",
    "        al=rf.readlines()\n",
    "    for line in al:\n",
    "        sm,lab=line.strip().split(',')\n",
    "        c_sm=Chem.MolToSmiles(Chem.MolFromSmiles(sm))\n",
    "        if c_sm not in sm_labs:\n",
    "            sm_labs[c_sm].append(lab)\n",
    "        else:"
   ]
  },
  {
   "cell_type": "code",
   "execution_count": 73,
   "metadata": {},
   "outputs": [
    {
     "name": "stdout",
     "output_type": "stream",
     "text": [
      "safa dadsf\n"
     ]
    }
   ],
   "source": [
    "a,b='safa,dadsf'.split(',')\n",
    "print(a,b)"
   ]
  },
  {
   "cell_type": "code",
   "execution_count": 78,
   "metadata": {},
   "outputs": [
    {
     "data": {
      "text/plain": [
       "defaultdict(dict, {})"
      ]
     },
     "execution_count": 78,
     "metadata": {},
     "output_type": "execute_result"
    }
   ],
   "source": [
    "d = collections.defaultdict(dict)\n",
    "d"
   ]
  },
  {
   "cell_type": "code",
   "execution_count": 13,
   "metadata": {},
   "outputs": [],
   "source": [
    "smiles = dataCDK[0]\n",
    "#multi classification\n",
    "labels=dataCDK[1]\n",
    "fp=dataCDK[-1]\n",
    "som = MiniSom(30, 30, 2048, sigma=5, learning_rate=0.5, \n",
    "              neighborhood_function='triangle', random_seed=10)\n",
    "\n",
    "assert len(labels)==len(smiles)\n",
    "fp_norm = np.apply_along_axis(lambda x: x/np.linalg.norm(x), 1, fp)\n",
    "CDKclass_assignments = som.labels_map(fp_norm, labels)"
   ]
  },
  {
   "cell_type": "code",
   "execution_count": 14,
   "metadata": {},
   "outputs": [],
   "source": [
    "def classify(som, fp_norm, CDKclass_assignments):\n",
    "    winmap = class_assignments\n",
    "    default_class = np.sum(list(winmap.values())).most_common()[0][0]\n",
    "    result = []\n",
    "    for d in data:\n",
    "        win_position = som.winner(d)\n",
    "        if win_position in winmap:\n",
    "            result.append(winmap[win_position].most_common()[0][0])\n",
    "        else:\n",
    "            result.append(default_class)\n",
    "    return result"
   ]
  },
  {
   "cell_type": "code",
   "execution_count": 138,
   "metadata": {},
   "outputs": [
    {
     "name": "stderr",
     "output_type": "stream",
     "text": [
      "d:\\apps\\continuum\\anaconda3\\envs\\chem\\lib\\site-packages\\numpy\\linalg\\linalg.py:2481: RuntimeWarning: overflow encountered in reduce\n",
      "  return sqrt(add.reduce(s, axis=axis, keepdims=keepdims))\n",
      "d:\\apps\\continuum\\anaconda3\\envs\\chem\\lib\\site-packages\\numpy\\linalg\\linalg.py:2480: RuntimeWarning: overflow encountered in multiply\n",
      "  s = (x.conj() * x).real\n",
      "d:\\apps\\continuum\\anaconda3\\envs\\chem\\lib\\site-packages\\minisom.py:245: RuntimeWarning: invalid value encountered in add\n",
      "  self._weights += einsum('ij, ijk->ijk', g, x-self._weights)#update 更新——w\n"
     ]
    },
    {
     "name": "stdout",
     "output_type": "stream",
     "text": [
      "winmap\n",
      "winmap\n",
      "              precision    recall  f1-score   support\n",
      "\n",
      "     CDK19_A       0.00      0.00      0.00        15\n",
      "     CDK19_N       0.00      0.00      0.00        46\n",
      "      CDK1_A       0.00      0.00      0.00       416\n",
      "      CDK1_N       0.00      0.00      0.00        44\n",
      "      CDK2_A       0.27      1.00      0.42       528\n",
      "      CDK2_N       0.00      0.00      0.00       115\n",
      "      CDK3_A       0.00      0.00      0.00        16\n",
      "      CDK3_N       0.00      0.00      0.00         1\n",
      "      CDK4_A       0.00      0.00      0.00       125\n",
      "      CDK4_N       0.00      0.00      0.00        32\n",
      "      CDK5_A       0.00      0.00      0.00       285\n",
      "      CDK5_N       0.00      0.00      0.00         9\n",
      "      CDK6_A       0.00      0.00      0.00        26\n",
      "      CDK6_N       0.00      0.00      0.00         1\n",
      "      CDK7_A       0.00      0.00      0.00       102\n",
      "      CDK7_N       0.00      0.00      0.00        12\n",
      "      CDK8_A       0.00      0.00      0.00        97\n",
      "      CDK8_N       0.00      0.00      0.00         8\n",
      "      CDK9_A       0.00      0.00      0.00        77\n",
      "      CDK9_N       0.00      0.00      0.00         9\n",
      "\n",
      "   micro avg       0.27      0.27      0.27      1964\n",
      "   macro avg       0.01      0.05      0.02      1964\n",
      "weighted avg       0.07      0.27      0.11      1964\n",
      "\n"
     ]
    },
    {
     "name": "stderr",
     "output_type": "stream",
     "text": [
      "d:\\apps\\continuum\\anaconda3\\envs\\chem\\lib\\site-packages\\sklearn\\metrics\\classification.py:1143: UndefinedMetricWarning: Precision and F-score are ill-defined and being set to 0.0 in labels with no predicted samples.\n",
      "  'precision', 'predicted', average, warn_for)\n"
     ]
    }
   ],
   "source": [
    "#train update the weight of map \n",
    "X_train, X_test, y_train, y_test = train_test_split(fp_norm, labels,test_size=0.25)#defualt 0.25\n",
    "som.pca_weights_init(X_train)\n",
    "som.train_random(X_train, 5000, verbose=False)\n",
    "class_assignments = som.labels_map(X_train, y_train)\n",
    "print(classification_report(y_test, classify(som, X_test, class_assignments)))"
   ]
  },
  {
   "cell_type": "code",
   "execution_count": 155,
   "metadata": {},
   "outputs": [
    {
     "name": "stdout",
     "output_type": "stream",
     "text": [
      "7856\n",
      "dict_keys(['CDK4_A', 'CDK7_A', 'CDK9_A', 'CDK1_A', 'CDK2_A', 'CDK1_N', 'CDK2_N', 'CDK5_A', 'CDK8_A', 'CDK19_N', 'CDK19_A', 'CDK3_A', 'CDK6_A', 'CDK4_N', 'CDK3_N', 'CDK5_N', 'CDK9_N', 'CDK6_N', 'CDK7_N', 'CDK8_N'])\n",
      "dict_values([456, 472, 403, 1600, 2100, 206, 432, 1162, 394, 159, 56, 56, 77, 108, 2, 49, 50, 4, 42, 28])\n"
     ]
    },
    {
     "data": {
      "text/plain": [
       "7856"
      ]
     },
     "execution_count": 155,
     "metadata": {},
     "output_type": "execute_result"
    }
   ],
   "source": [
    "li=labels.tolist()\n",
    "print(len(li))\n",
    "from collections import Counter\n",
    "print(Counter(li).keys()) # equals to list(set(words))\n",
    "print(Counter(li).values())\n",
    "456+ 472+ 403+ 1600+ 2100+ 206+ 432+ 1162+ 394+ 159+ 56+ 56+ 77+ 108+ 2+ 49+ 50+ 4+ 42+ 28"
   ]
  },
  {
   "cell_type": "code",
   "execution_count": 160,
   "metadata": {},
   "outputs": [],
   "source": [
    "k=['CDK4_A', 'CDK7_A', 'CDK9_A', 'CDK1_A', 'CDK2_A', 'CDK1_N', 'CDK2_N', 'CDK5_A', 'CDK8_A', 'CDK19_N', 'CDK19_A', 'CDK3_A', 'CDK6_A', 'CDK4_N', 'CDK3_N', 'CDK5_N', 'CDK9_N', 'CDK6_N', 'CDK7_N', 'CDK8_N']\n",
    "v=[456, 472, 403, 1600, 2100, 206, 432, 1162, 394, 159, 56, 56, 77, 108, 2, 49, 50, 4, 42, 28]\n",
    "di={}\n",
    "dii={}\n",
    "for i,val in enumerate(k):\n",
    "    dii[k[i]]=i\n",
    "for i,val in enumerate(v):\n",
    "    di[k[i]]=val\n",
    "\n",
    "#di"
   ]
  },
  {
   "cell_type": "code",
   "execution_count": 161,
   "metadata": {},
   "outputs": [
    {
     "data": {
      "image/png": "[encoded data removed]",
      "text/plain": [
       "<Figure size 576x576 with 1 Axes>"
      ]
     },
     "metadata": {
      "needs_background": "light"
     },
     "output_type": "display_data"
    }
   ],
   "source": [
    "plt.figure(figsize=(8, 8))\n",
    "wmap = {}\n",
    "im = 0\n",
    "for x, t in zip(fp_norm, labels):  # scatterplot\n",
    "    w = som.winner(x)\n",
    "    wmap[w] = im\n",
    "    plt.text(w[0]+.5,  w[1]+.5,  str(dii[t]),color=plt.cm.rainbow(di[t] / 7856), fontdict={'weight': 'bold',  'size': 11})\n",
    "    im = im + 1\n",
    "plt.axis([0, som.get_weights().shape[0], 0,  som.get_weights().shape[1]])\n",
    "plt.savefig('resulting_images/som_digts.png')\n",
    "plt.show()"
   ]
  },
  {
   "cell_type": "code",
   "execution_count": null,
   "metadata": {},
   "outputs": [],
   "source": [
    "#map 图是Color Quantization。inpy里的"
   ]
  },
  {
   "cell_type": "code",
   "execution_count": 162,
   "metadata": {},
   "outputs": [],
   "source": [
    "import torchvision.datasets as datasets\n",
    "import torchvision.transforms as transforms\n",
    "from torch.utils.data.dataloader import DataLoader"
   ]
  },
  {
   "cell_type": "code",
   "execution_count": null,
   "metadata": {},
   "outputs": [],
   "source": [
    "DATA_DIR='datasets/mnist'\n",
    "transform=transforms.Compose( [transforms.ToTensor()])\n",
    "train_data = datasets.MNIST(DATA_DIR, train=True, download=True, transform=transform)\n"
   ]
  },
  {
   "cell_type": "code",
   "execution_count": null,
   "metadata": {},
   "outputs": [],
   "source": [
    "transforms.Compose( [transforms.ToTensor()])"
   ]
  },
  {
   "cell_type": "code",
   "execution_count": 171,
   "metadata": {},
   "outputs": [
    {
     "name": "stdout",
     "output_type": "stream",
     "text": [
      "torch.Size([5, 10, 400])\n"
     ]
    }
   ],
   "source": [
    "import torch\n",
    "batch_size=torch.randn(5,10)\n",
    "weight=torch.ones(10,20*20)\n",
    "a=weight.expand(batch_size.size()[0], -1, -1)\n",
    "print(a.size())"
   ]
  },
  {
   "cell_type": "code",
   "execution_count": null,
   "metadata": {},
   "outputs": [],
   "source": []
  },
  {
   "cell_type": "code",
   "execution_count": 176,
   "metadata": {},
   "outputs": [
    {
     "data": {
      "text/plain": [
       "28.0"
      ]
     },
     "execution_count": 176,
     "metadata": {},
     "output_type": "execute_result"
    }
   ],
   "source": [
    "784**0.5"
   ]
  },
  {
   "cell_type": "code",
   "execution_count": 215,
   "metadata": {},
   "outputs": [],
   "source": [
    "from torch import nn\n",
    "pdist = nn.PairwiseDistance(p=2)\n",
    "input1 = torch.randn( 3,5,1)\n",
    "input2 = torch.randn( 3,5,10)\n",
    "output = pdist(input1, input2)\n",
    "#print(input1,input2)"
   ]
  },
  {
   "cell_type": "code",
   "execution_count": 217,
   "metadata": {},
   "outputs": [
    {
     "data": {
      "text/plain": [
       "torch.Size([3, 10])"
      ]
     },
     "execution_count": 217,
     "metadata": {},
     "output_type": "execute_result"
    }
   ],
   "source": [
    "output.size()"
   ]
  },
  {
   "cell_type": "code",
   "execution_count": 216,
   "metadata": {},
   "outputs": [
    {
     "name": "stdout",
     "output_type": "stream",
     "text": [
      "tensor([[3.8581, 2.7510, 3.2380, 2.3477, 0.8924, 3.6555, 3.2934, 2.6933, 3.7055,\n",
      "         2.8109],\n",
      "        [3.8189, 4.6339, 3.2839, 2.6021, 3.4037, 3.1551, 2.2873, 3.5827, 3.4290,\n",
      "         4.2342],\n",
      "        [2.5698, 3.5105, 0.9314, 2.7071, 2.3713, 3.6499, 2.5632, 2.5961, 2.5001,\n",
      "         2.5120]])\n"
     ]
    },
    {
     "data": {
      "text/plain": [
       "(tensor([0.8924, 2.2873, 0.9314]), tensor([4, 6, 2]))"
      ]
     },
     "execution_count": 216,
     "metadata": {},
     "output_type": "execute_result"
    }
   ],
   "source": [
    "print(output)\n",
    "output.min(dim=1)"
   ]
  },
  {
   "cell_type": "code",
   "execution_count": 214,
   "metadata": {},
   "outputs": [
    {
     "name": "stdout",
     "output_type": "stream",
     "text": [
      "tensor([5.7968, 5.5589, 4.6727, 5.7623, 4.1791, 4.0689, 5.5423, 3.9243, 5.2312,\n",
      "        4.0850])\n"
     ]
    },
    {
     "data": {
      "text/plain": [
       "tensor(3.9243)"
      ]
     },
     "execution_count": 214,
     "metadata": {},
     "output_type": "execute_result"
    }
   ],
   "source": [
    "output = pdist(input1.t(), input2.t())\n",
    "print(output)\n",
    "output.min()"
   ]
  },
  {
   "cell_type": "code",
   "execution_count": 207,
   "metadata": {},
   "outputs": [
    {
     "data": {
      "text/plain": [
       "(tensor([-0.6491, -0.3075, -1.3217, -2.1527, -0.2752, -1.1715, -1.5919, -2.3381,\n",
       "         -1.5442, -0.5945]), tensor([3, 1, 0, 0, 2, 4, 2, 3, 4, 3]))"
      ]
     },
     "execution_count": 207,
     "metadata": {},
     "output_type": "execute_result"
    }
   ],
   "source": [
    "input2.min(dim=0)"
   ]
  },
  {
   "cell_type": "code",
   "execution_count": 206,
   "metadata": {},
   "outputs": [
    {
     "data": {
      "text/plain": [
       "tensor([[ 1.0152,  1.1073, -1.3217, -2.1527,  1.5293, -0.2529, -0.2319, -0.1961,\n",
       "          0.4335,  0.2889],\n",
       "        [-0.5268, -0.3075, -0.5943, -0.5505,  0.1937,  0.0991,  0.0499,  1.0780,\n",
       "          0.8455,  0.9519],\n",
       "        [ 1.5498,  0.2765,  0.5029,  0.3138, -0.2752,  0.4065, -1.5919, -0.1030,\n",
       "          0.7087, -0.4202],\n",
       "        [-0.6491,  0.0262, -1.1500,  0.0297,  3.9375,  0.9222,  0.4920, -2.3381,\n",
       "         -1.0829, -0.5945],\n",
       "        [ 1.2238, -0.2234,  0.3843,  1.9698,  1.1658, -1.1715,  1.9515, -0.2867,\n",
       "         -1.5442, -0.5204]])"
      ]
     },
     "execution_count": 206,
     "metadata": {},
     "output_type": "execute_result"
    }
   ],
   "source": [
    "input2"
   ]
  },
  {
   "cell_type": "code",
   "execution_count": null,
   "metadata": {},
   "outputs": [],
   "source": []
  },
  {
   "cell_type": "code",
   "execution_count": null,
   "metadata": {},
   "outputs": [],
   "source": []
  },
  {
   "cell_type": "code",
   "execution_count": 240,
   "metadata": {},
   "outputs": [],
   "source": [
    "pdist = nn.PairwiseDistance(p=2)\n",
    "input1 = torch.randn(1,2, 3)\n",
    "input2 = torch.randn(1,2, 3)\n",
    "output = pdist(input1, input2)"
   ]
  },
  {
   "cell_type": "code",
   "execution_count": 241,
   "metadata": {},
   "outputs": [
    {
     "data": {
      "text/plain": [
       "torch.Size([1, 3])"
      ]
     },
     "execution_count": 241,
     "metadata": {},
     "output_type": "execute_result"
    }
   ],
   "source": [
    "output.size()"
   ]
  },
  {
   "cell_type": "code",
   "execution_count": 242,
   "metadata": {},
   "outputs": [
    {
     "name": "stdout",
     "output_type": "stream",
     "text": [
      "torch.Size([1, 2, 3])\n",
      "torch.Size([1, 2, 3])\n",
      "torch.Size([1, 3])\n"
     ]
    }
   ],
   "source": [
    "print(input1.size())\n",
    "print(input2.size())\n",
    "print(output.size())"
   ]
  },
  {
   "cell_type": "code",
   "execution_count": 244,
   "metadata": {},
   "outputs": [
    {
     "data": {
      "text/plain": [
       "torch.Size([2])"
      ]
     },
     "execution_count": 244,
     "metadata": {},
     "output_type": "execute_result"
    }
   ],
   "source": [
    "output.size()"
   ]
  },
  {
   "cell_type": "code",
   "execution_count": 245,
   "metadata": {},
   "outputs": [
    {
     "name": "stdout",
     "output_type": "stream",
     "text": [
      "torch.Size([2, 3])\n",
      "torch.Size([2, 3])\n",
      "torch.Size([2])\n"
     ]
    }
   ],
   "source": [
    "print(input1.size())\n",
    "print(input2.size())\n",
    "print(output.size())"
   ]
  },
  {
   "cell_type": "code",
   "execution_count": 18,
   "metadata": {},
   "outputs": [],
   "source": [
    "import torch\n",
    "from torch import nn"
   ]
  },
  {
   "cell_type": "code",
   "execution_count": 43,
   "metadata": {},
   "outputs": [
    {
     "name": "stdout",
     "output_type": "stream",
     "text": [
      "torch.Size([2, 3, 4, 3])\n",
      "torch.Size([2, 3, 4, 3])\n"
     ]
    }
   ],
   "source": [
    "a=[[4,0,0],[4,0,0],[4,0,0],[4,0,0]]\n",
    "b=[[2,2,2],[2,2,2],[2,2,2],[2,2,2]]#直接用2 来阔 2,2,2    相减 在**2  +   **0.5\n",
    "input2=torch.FloatTensor([[b,b,b],[b,b,b]])\n",
    "input1=torch.FloatTensor([[a,a,a],[a,a,a]])\n",
    "pdist = nn.PairwiseDistance(p=2)\n",
    "print(input1.size())\n",
    "print(input2.size())"
   ]
  },
  {
   "cell_type": "markdown",
   "metadata": {},
   "source": [
    "print(torch.FloatTensor(b))\n",
    "pdist(torch.FloatTensor(a),torch.FloatTensor(b))"
   ]
  },
  {
   "cell_type": "code",
   "execution_count": 44,
   "metadata": {},
   "outputs": [
    {
     "name": "stdout",
     "output_type": "stream",
     "text": [
      "tensor([[4., 0., 0.],\n",
      "        [4., 0., 0.],\n",
      "        [4., 0., 0.],\n",
      "        [4., 0., 0.]])\n",
      "tensor([[2., 2., 2.],\n",
      "        [2., 2., 2.],\n",
      "        [2., 2., 2.],\n",
      "        [2., 2., 2.]])\n"
     ]
    },
    {
     "data": {
      "text/plain": [
       "tensor([3.4641, 3.4641, 3.4641, 3.4641])"
      ]
     },
     "execution_count": 44,
     "metadata": {},
     "output_type": "execute_result"
    }
   ],
   "source": [
    "print(torch.FloatTensor(a)) \n",
    "print(torch.FloatTensor(b)) \n",
    "pdist(torch.FloatTensor(a),torch.FloatTensor(b))"
   ]
  },
  {
   "cell_type": "code",
   "execution_count": 48,
   "metadata": {
    "scrolled": true
   },
   "outputs": [
    {
     "name": "stdout",
     "output_type": "stream",
     "text": [
      "tensor([[[[4., 0., 0.],\n",
      "          [4., 0., 0.],\n",
      "          [4., 0., 0.],\n",
      "          [4., 0., 0.]],\n",
      "\n",
      "         [[4., 0., 0.],\n",
      "          [4., 0., 0.],\n",
      "          [4., 0., 0.],\n",
      "          [4., 0., 0.]],\n",
      "\n",
      "         [[4., 0., 0.],\n",
      "          [4., 0., 0.],\n",
      "          [4., 0., 0.],\n",
      "          [4., 0., 0.]]],\n",
      "\n",
      "\n",
      "        [[[4., 0., 0.],\n",
      "          [4., 0., 0.],\n",
      "          [4., 0., 0.],\n",
      "          [4., 0., 0.]],\n",
      "\n",
      "         [[4., 0., 0.],\n",
      "          [4., 0., 0.],\n",
      "          [4., 0., 0.],\n",
      "          [4., 0., 0.]],\n",
      "\n",
      "         [[4., 0., 0.],\n",
      "          [4., 0., 0.],\n",
      "          [4., 0., 0.],\n",
      "          [4., 0., 0.]]]])\n",
      "tensor([[[[2., 2., 2.],\n",
      "          [2., 2., 2.],\n",
      "          [2., 2., 2.],\n",
      "          [2., 2., 2.]],\n",
      "\n",
      "         [[2., 2., 2.],\n",
      "          [2., 2., 2.],\n",
      "          [2., 2., 2.],\n",
      "          [2., 2., 2.]],\n",
      "\n",
      "         [[2., 2., 2.],\n",
      "          [2., 2., 2.],\n",
      "          [2., 2., 2.],\n",
      "          [2., 2., 2.]]],\n",
      "\n",
      "\n",
      "        [[[2., 2., 2.],\n",
      "          [2., 2., 2.],\n",
      "          [2., 2., 2.],\n",
      "          [2., 2., 2.]],\n",
      "\n",
      "         [[2., 2., 2.],\n",
      "          [2., 2., 2.],\n",
      "          [2., 2., 2.],\n",
      "          [2., 2., 2.]],\n",
      "\n",
      "         [[2., 2., 2.],\n",
      "          [2., 2., 2.],\n",
      "          [2., 2., 2.],\n",
      "          [2., 2., 2.]]]])\n",
      "torch.Size([2, 1, 4, 3])\n"
     ]
    },
    {
     "data": {
      "text/plain": [
       "tensor([[[[3.4641, 3.4641, 3.4641],\n",
       "          [3.4641, 3.4641, 3.4641],\n",
       "          [3.4641, 3.4641, 3.4641],\n",
       "          [3.4641, 3.4641, 3.4641]]],\n",
       "\n",
       "\n",
       "        [[[3.4641, 3.4641, 3.4641],\n",
       "          [3.4641, 3.4641, 3.4641],\n",
       "          [3.4641, 3.4641, 3.4641],\n",
       "          [3.4641, 3.4641, 3.4641]]]])"
      ]
     },
     "execution_count": 48,
     "metadata": {},
     "output_type": "execute_result"
    }
   ],
   "source": [
    "pdist = nn.PairwiseDistance(p=2,keepdim=True)\n",
    "print(input1)\n",
    "print(input2)\n",
    "print(pdist(input1,input2).size())\n",
    "pdist(input1,input2)"
   ]
  },
  {
   "cell_type": "code",
   "execution_count": 34,
   "metadata": {},
   "outputs": [
    {
     "data": {
      "text/plain": [
       "3.4641016151377544"
      ]
     },
     "execution_count": 34,
     "metadata": {},
     "output_type": "execute_result"
    }
   ],
   "source": [
    "12**0.5"
   ]
  },
  {
   "cell_type": "code",
   "execution_count": 31,
   "metadata": {},
   "outputs": [
    {
     "data": {
      "text/plain": [
       "tensor([2.0000e+00, 1.0000e-06])"
      ]
     },
     "execution_count": 31,
     "metadata": {},
     "output_type": "execute_result"
    }
   ],
   "source": [
    "pdist(torch.FloatTensor([[2],[1]]),torch.FloatTensor([[4],[1]]))"
   ]
  },
  {
   "cell_type": "code",
   "execution_count": 276,
   "metadata": {},
   "outputs": [
    {
     "data": {
      "text/plain": [
       "tensor([[2.],\n",
       "        [1.]])"
      ]
     },
     "execution_count": 276,
     "metadata": {},
     "output_type": "execute_result"
    }
   ],
   "source": [
    "torch.FloatTensor([[2],[1]])"
   ]
  },
  {
   "cell_type": "code",
   "execution_count": null,
   "metadata": {},
   "outputs": [],
   "source": []
  },
  {
   "cell_type": "code",
   "execution_count": 270,
   "metadata": {},
   "outputs": [],
   "source": [
    "input2=torch.FloatTensor(b)\n",
    "input1=torch.FloatTensor(a)\n",
    "pdist = nn.PairwiseDistance(p=2)"
   ]
  },
  {
   "cell_type": "code",
   "execution_count": 255,
   "metadata": {},
   "outputs": [
    {
     "data": {
      "text/plain": [
       "tensor([1.4142, 1.4142])"
      ]
     },
     "execution_count": 255,
     "metadata": {},
     "output_type": "execute_result"
    }
   ],
   "source": [
    "pdist(input1,input2)"
   ]
  },
  {
   "cell_type": "code",
   "execution_count": 259,
   "metadata": {},
   "outputs": [
    {
     "data": {
      "text/plain": [
       "tensor([1.4142, 1.4142])"
      ]
     },
     "execution_count": 259,
     "metadata": {},
     "output_type": "execute_result"
    }
   ],
   "source": [
    "torch.pairwise_distance(input2, input1, 2)"
   ]
  },
  {
   "cell_type": "code",
   "execution_count": 63,
   "metadata": {},
   "outputs": [
    {
     "ename": "RuntimeError",
     "evalue": "output with shape [2, 1, 3, 4, 3] doesn't match the broadcast shape [2, 2, 3, 4, 3]",
     "output_type": "error",
     "traceback": [
      "\u001b[1;31m---------------------------------------------------------------------------\u001b[0m",
      "\u001b[1;31mRuntimeError\u001b[0m                              Traceback (most recent call last)",
      "\u001b[1;32m<ipython-input-63-b201e8c05154>\u001b[0m in \u001b[0;36m<module>\u001b[1;34m\u001b[0m\n\u001b[1;32m----> 1\u001b[1;33m \u001b[0ma\u001b[0m\u001b[1;33m=\u001b[0m\u001b[0minput1\u001b[0m\u001b[1;33m.\u001b[0m\u001b[0mmul_\u001b[0m\u001b[1;33m(\u001b[0m\u001b[0minput2\u001b[0m\u001b[1;33m)\u001b[0m\u001b[1;33m.\u001b[0m\u001b[0msize\u001b[0m\u001b[1;33m(\u001b[0m\u001b[1;33m)\u001b[0m\u001b[1;33m\u001b[0m\u001b[1;33m\u001b[0m\u001b[0m\n\u001b[0m",
      "\u001b[1;31mRuntimeError\u001b[0m: output with shape [2, 1, 3, 4, 3] doesn't match the broadcast shape [2, 2, 3, 4, 3]"
     ]
    }
   ],
   "source": [
    "a=input1.mul_(input2).size()"
   ]
  },
  {
   "cell_type": "code",
   "execution_count": 62,
   "metadata": {},
   "outputs": [
    {
     "ename": "RuntimeError",
     "evalue": "number of dims don't match in permute",
     "output_type": "error",
     "traceback": [
      "\u001b[1;31m---------------------------------------------------------------------------\u001b[0m",
      "\u001b[1;31mRuntimeError\u001b[0m                              Traceback (most recent call last)",
      "\u001b[1;32m<ipython-input-62-c5941ddee15a>\u001b[0m in \u001b[0;36m<module>\u001b[1;34m\u001b[0m\n\u001b[1;32m----> 1\u001b[1;33m \u001b[0ma\u001b[0m\u001b[1;33m.\u001b[0m\u001b[0munsqueeze_\u001b[0m\u001b[1;33m(\u001b[0m\u001b[1;36m1\u001b[0m\u001b[1;33m)\u001b[0m\u001b[1;33m.\u001b[0m\u001b[0mpermute\u001b[0m\u001b[1;33m(\u001b[0m\u001b[1;36m4\u001b[0m\u001b[1;33m,\u001b[0m\u001b[1;36m0\u001b[0m\u001b[1;33m,\u001b[0m\u001b[1;36m1\u001b[0m\u001b[1;33m,\u001b[0m\u001b[1;36m2\u001b[0m\u001b[1;33m,\u001b[0m\u001b[1;36m3\u001b[0m\u001b[1;33m)\u001b[0m\u001b[1;33m\u001b[0m\u001b[1;33m\u001b[0m\u001b[0m\n\u001b[0m",
      "\u001b[1;31mRuntimeError\u001b[0m: number of dims don't match in permute"
     ]
    }
   ],
   "source": [
    "a.unsqueeze_(1).permute(4,0,1,2,3)"
   ]
  },
  {
   "cell_type": "code",
   "execution_count": 61,
   "metadata": {},
   "outputs": [
    {
     "name": "stdout",
     "output_type": "stream",
     "text": [
      "a=tensor([[[-0.2698],\n",
      "         [-1.1547],\n",
      "         [-0.1845],\n",
      "         [ 2.5239]],\n",
      "\n",
      "        [[ 0.0592],\n",
      "         [-0.6575],\n",
      "         [ 0.9731],\n",
      "         [-0.3818]],\n",
      "\n",
      "        [[-1.3259],\n",
      "         [-0.3649],\n",
      "         [-1.5527],\n",
      "         [ 0.5724]],\n",
      "\n",
      "        [[ 0.8082],\n",
      "         [-0.8155],\n",
      "         [ 0.6779],\n",
      "         [-1.2919]],\n",
      "\n",
      "        [[-0.3912],\n",
      "         [ 1.1577],\n",
      "         [ 0.8518],\n",
      "         [-1.3901]]]),b=tensor([[-1.4381,  0.1980, -0.0967,  0.2470, -0.8591],\n",
      "        [ 1.6229,  1.3022,  0.2621, -0.6108, -1.3457],\n",
      "        [-0.7730, -0.2339,  1.4740,  0.3887,  0.4493],\n",
      "        [ 0.2742, -1.2291,  1.6683,  1.1290,  1.1621]]),a-b=torch.Size([5, 4, 5])\n"
     ]
    }
   ],
   "source": [
    "a=torch.randn(5,4,1)\n",
    "b=torch.randn(4,5)\n",
    "print(f'a={a},b={b},a-b={(a-b).size()}')"
   ]
  },
  {
   "cell_type": "code",
   "execution_count": 90,
   "metadata": {},
   "outputs": [],
   "source": [
    "class_parameters = [\n",
    "    dict(\n",
    "        marker='o',\n",
    "        markeredgecolor='#E24A33',\n",
    "        markersize=11,\n",
    "        markeredgewidth=2,\n",
    "        markerfacecolor='None',\n",
    "    ),\n",
    "    dict(\n",
    "        marker='s',\n",
    "        markeredgecolor='#348ABD',\n",
    "        markersize=14,\n",
    "        markeredgewidth=2,\n",
    "        markerfacecolor='None',\n",
    "    ),\n",
    "]"
   ]
  },
  {
   "cell_type": "code",
   "execution_count": 95,
   "metadata": {},
   "outputs": [],
   "source": [
    "from itertools import product"
   ]
  },
  {
   "cell_type": "code",
   "execution_count": 97,
   "metadata": {},
   "outputs": [
    {
     "data": {
      "text/plain": [
       "<itertools.product at 0x22de807e630>"
      ]
     },
     "execution_count": 97,
     "metadata": {},
     "output_type": "execute_result"
    }
   ],
   "source": [
    "product(range(5), range(5))"
   ]
  },
  {
   "cell_type": "code",
   "execution_count": 98,
   "metadata": {},
   "outputs": [],
   "source": [
    "a = np.arange(4).reshape((2,2))\n",
    "\n",
    "b=np.amax(a)\n",
    "v=b-a"
   ]
  },
  {
   "cell_type": "code",
   "execution_count": 101,
   "metadata": {},
   "outputs": [
    {
     "name": "stdout",
     "output_type": "stream",
     "text": [
      "--->msvcp140.dll\n"
     ]
    },
    {
     "ename": "ModuleNotFoundError",
     "evalue": "No module named 'competitive'",
     "output_type": "error",
     "traceback": [
      "\u001b[1;31m---------------------------------------------------------------------------\u001b[0m",
      "\u001b[1;31mModuleNotFoundError\u001b[0m                       Traceback (most recent call last)",
      "\u001b[1;32m<ipython-input-101-e458a75c9071>\u001b[0m in \u001b[0;36m<module>\u001b[1;34m\u001b[0m\n\u001b[0;32m      6\u001b[0m \u001b[1;32mfrom\u001b[0m \u001b[0mneupy\u001b[0m \u001b[1;32mimport\u001b[0m \u001b[0malgorithms\u001b[0m\u001b[1;33m,\u001b[0m \u001b[0mutils\u001b[0m\u001b[1;33m\u001b[0m\u001b[1;33m\u001b[0m\u001b[0m\n\u001b[0;32m      7\u001b[0m \u001b[1;33m\u001b[0m\u001b[0m\n\u001b[1;32m----> 8\u001b[1;33m \u001b[1;32mfrom\u001b[0m \u001b[0mcompetitive\u001b[0m\u001b[1;33m.\u001b[0m\u001b[0mutils\u001b[0m \u001b[1;32mimport\u001b[0m \u001b[0miter_neighbours\u001b[0m\u001b[1;33m\u001b[0m\u001b[1;33m\u001b[0m\u001b[0m\n\u001b[0m",
      "\u001b[1;31mModuleNotFoundError\u001b[0m: No module named 'competitive'"
     ]
    }
   ],
   "source": [
    "import argparse\n",
    "\n",
    "import numpy as np\n",
    "import matplotlib.pyplot as plt\n",
    "from sklearn import datasets, preprocessing\n",
    "from neupy import algorithms, utils\n",
    "\n",
    "from competitive.utils import iter_neighbours\n"
   ]
  },
  {
   "cell_type": "code",
   "execution_count": 105,
   "metadata": {},
   "outputs": [],
   "source": [
    "def load_data():\n",
    "    data, target = datasets.load_breast_cancer(return_X_y=True)\n",
    "\n",
    "    scaler = preprocessing.MinMaxScaler()\n",
    "    data = scaler.fit_transform(data)"
   ]
  },
  {
   "cell_type": "code",
   "execution_count": 103,
   "metadata": {},
   "outputs": [
    {
     "name": "stdout",
     "output_type": "stream",
     "text": [
      "\n",
      "Main information\n",
      "\n",
      "[ALGORITHM] SOFM\n",
      "\r\n",
      "[OPTION] distance = ['euclid', 'neg_euclid_distance']\n",
      "[OPTION] features_grid = [20, 20]\n",
      "[OPTION] grid_type = ['rectangle', 'find_neighbours_on_rect_grid', 'find_step_scaler_on_rect_grid']\n",
      "[OPTION] learning_radius = 4\n",
      "[OPTION] n_inputs = 30\n",
      "[OPTION] n_outputs = None\n",
      "[OPTION] reduce_radius_after = 50\n",
      "[OPTION] reduce_std_after = 100\n",
      "[OPTION] reduce_step_after = 100\n",
      "[OPTION] show_epoch = 1\n",
      "[OPTION] shuffle_data = True\n",
      "[OPTION] signals = None\n",
      "[OPTION] std = 1\n",
      "[OPTION] step = 0.5\n",
      "[OPTION] verbose = True\n",
      "[OPTION] weight = Normal(mean=0, std=0.01)\n",
      "\r\n"
     ]
    }
   ],
   "source": [
    "GRID_HEIGHT = 20\n",
    "GRID_WIDTH = 20\n",
    "\n",
    "sofm = algorithms.SOFM(\n",
    "    n_inputs=30,\n",
    "    features_grid=(GRID_HEIGHT, GRID_WIDTH),\n",
    "\n",
    "    learning_radius=4,\n",
    "    reduce_radius_after=50,\n",
    "\n",
    "    step=0.5,\n",
    "    std=1,\n",
    "\n",
    "    shuffle_data=True,\n",
    "    verbose=True,\n",
    ")"
   ]
  },
  {
   "cell_type": "code",
   "execution_count": 104,
   "metadata": {},
   "outputs": [
    {
     "ename": "TypeError",
     "evalue": "'NoneType' object is not iterable",
     "output_type": "error",
     "traceback": [
      "\u001b[1;31m---------------------------------------------------------------------------\u001b[0m",
      "\u001b[1;31mTypeError\u001b[0m                                 Traceback (most recent call last)",
      "\u001b[1;32m<ipython-input-104-6f0d651884b5>\u001b[0m in \u001b[0;36m<module>\u001b[1;34m\u001b[0m\n\u001b[1;32m----> 1\u001b[1;33m \u001b[0mdata\u001b[0m\u001b[1;33m,\u001b[0m \u001b[0mtarget\u001b[0m \u001b[1;33m=\u001b[0m \u001b[0mload_data\u001b[0m\u001b[1;33m(\u001b[0m\u001b[1;33m)\u001b[0m\u001b[1;33m\u001b[0m\u001b[1;33m\u001b[0m\u001b[0m\n\u001b[0m",
      "\u001b[1;31mTypeError\u001b[0m: 'NoneType' object is not iterable"
     ]
    }
   ],
   "source": []
  },
  {
   "cell_type": "code",
   "execution_count": null,
   "metadata": {},
   "outputs": [],
   "source": []
  }
 ],
 "metadata": {
  "kernelspec": {
   "display_name": "Python 3",
   "language": "python",
   "name": "python3"
  },
  "language_info": {
   "codemirror_mode": {
    "name": "ipython",
    "version": 3
   },
   "file_extension": ".py",
   "mimetype": "text/x-python",
   "name": "python",
   "nbconvert_exporter": "python",
   "pygments_lexer": "ipython3",
   "version": "3.6.7"
  }
 },
 "nbformat": 4,
 "nbformat_minor": 2
}
